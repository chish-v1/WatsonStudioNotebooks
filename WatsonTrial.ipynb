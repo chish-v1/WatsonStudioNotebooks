{
    "cells": [
        {
            "metadata": {},
            "cell_type": "markdown",
            "source": "### Manage Attributes in Python\n\n**Getter:** A method that allows you to access an attribute in a given class <br>\n**Setter:** A method that allows you to set or mutate the value of an attribute in a class\n\nIn OOP, the getter and setter pattern suggests that public attributes should be used only when you\u2019re sure that no one will ever need to attach behavior to them. If an attribute is likely to change its internal implementation, then you should use getter and setter methods. [**Real Python Article on managing attributes**](https://realpython.com/python-getter-setter/)"
        },
        {
            "metadata": {},
            "cell_type": "code",
            "source": "#write a Label class with text and font attributes",
            "execution_count": null,
            "outputs": []
        },
        {
            "metadata": {},
            "cell_type": "code",
            "source": "class Label:\n    def __init__(self, text, font):\n        self._text = text\n        self._font = font\n\n    def get_text(self):\n        return self._text\n\n    def set_text(self, value):\n        self._text = value\n\n    def get_font(self):\n        return self._font\n\n    def set_font(self, value):\n        self._font = value",
            "execution_count": 31,
            "outputs": []
        },
        {
            "metadata": {},
            "cell_type": "markdown",
            "source": "Label hides its attributes from public access and exposes getter and setter methods instead.<br>\nYou can use these methods when you need to access or mutate the class\u2019s attributes, which are non-public<br>\nand therefore not part of the class API, as you already know."
        },
        {
            "metadata": {},
            "cell_type": "code",
            "source": "label = Label(\"Fruits\", \"JetBrains Mono NL\")",
            "execution_count": 33,
            "outputs": []
        },
        {
            "metadata": {},
            "cell_type": "code",
            "source": "label.get_text()",
            "execution_count": 34,
            "outputs": [
                {
                    "output_type": "execute_result",
                    "execution_count": 34,
                    "data": {
                        "text/plain": "'Fruits'"
                    },
                    "metadata": {}
                }
            ]
        },
        {
            "metadata": {},
            "cell_type": "code",
            "source": "label.set_text(\"Vegetables\")",
            "execution_count": 35,
            "outputs": []
        },
        {
            "metadata": {},
            "cell_type": "code",
            "source": "label.get_text()",
            "execution_count": 36,
            "outputs": [
                {
                    "output_type": "execute_result",
                    "execution_count": 36,
                    "data": {
                        "text/plain": "'Vegetables'"
                    },
                    "metadata": {}
                }
            ]
        },
        {
            "metadata": {},
            "cell_type": "code",
            "source": "label.get_font()",
            "execution_count": null,
            "outputs": []
        },
        {
            "metadata": {},
            "cell_type": "markdown",
            "source": "**Note:** Python doesn\u2019t have the notion of access modifiers, such as private, protected, and public, to restrict access to attributes and methods in a class. In Python, the distinction is between public and non-public class members.\n\nIf you want to signal that a given attribute or method is non-public, then you should use the well-established Python convention of prefixing the name with an underscore (_).\n\nNote that this is just a convention. It doesn\u2019t stop you and other programmers from accessing the attributes using dot notation, as in obj._attr. However, it\u2019s bad practice to violate this convention."
        }
    ],
    "metadata": {
        "kernelspec": {
            "name": "python3",
            "display_name": "Python 3.10",
            "language": "python"
        },
        "language_info": {
            "name": "python",
            "version": "3.10.6",
            "mimetype": "text/x-python",
            "codemirror_mode": {
                "name": "ipython",
                "version": 3
            },
            "pygments_lexer": "ipython3",
            "nbconvert_exporter": "python",
            "file_extension": ".py"
        }
    },
    "nbformat": 4,
    "nbformat_minor": 1
}